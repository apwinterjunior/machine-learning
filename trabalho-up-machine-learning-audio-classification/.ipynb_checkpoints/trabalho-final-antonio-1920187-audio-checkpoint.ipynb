{
 "cells": [
  {
   "cell_type": "code",
   "execution_count": 1,
   "metadata": {},
   "outputs": [
    {
     "name": "stderr",
     "output_type": "stream",
     "text": [
      "Using TensorFlow backend.\n"
     ]
    }
   ],
   "source": [
    "DATA_PATH = \"./dados/\"\n",
    "\n",
    "import keras\n",
    "from keras.models import Sequential\n",
    "from keras.layers import Dense, Dropout, Flatten, Conv2D, MaxPooling2D, LSTM\n",
    "from keras.utils import to_categorical\n",
    "import matplotlib.pyplot as plt\n",
    "\n",
    "import librosa\n",
    "import os\n",
    "from sklearn.model_selection import train_test_split\n",
    "from keras.utils import to_categorical\n",
    "import numpy as np\n",
    "from tqdm import tqdm"
   ]
  },
  {
   "cell_type": "code",
   "execution_count": 2,
   "metadata": {},
   "outputs": [],
   "source": [
    "#Metodo utilizado para pegar as labels para utilizar no metodo save_data_to_array\n",
    "\n",
    "def get_labels(path=DATA_PATH):\n",
    "    labels = os.listdir(path)\n",
    "    label_indices = np.arange(0, len(labels))\n",
    "    return labels, label_indices, to_categorical(label_indices)"
   ]
  },
  {
   "cell_type": "code",
   "execution_count": 3,
   "metadata": {},
   "outputs": [],
   "source": [
    "# Converter arquivo para wav2mfcc\n",
    "# Mel-frequency cepstral coefficients\n",
    "def wav2mfcc(file_path, n_mfcc=20, max_len=11):\n",
    "    wave, sr = librosa.load(file_path, mono=True, sr=None)\n",
    "    wave = np.asfortranarray(wave[::3])\n",
    "    mfcc = librosa.feature.mfcc(wave, sr=16000, n_mfcc=n_mfcc)\n",
    "\n",
    "    # Se o comprimento máximo exceder os comprimentos mfcc, preencha os resto\n",
    "    if (max_len > mfcc.shape[1]):\n",
    "        pad_width = max_len - mfcc.shape[1]\n",
    "        mfcc = np.pad(mfcc, pad_width=((0, 0), (0, pad_width)), mode='constant')\n",
    "\n",
    "    # Se não, corte o excedente\n",
    "    else:\n",
    "        mfcc = mfcc[:, :max_len]\n",
    "    \n",
    "    return mfcc"
   ]
  },
  {
   "cell_type": "code",
   "execution_count": 4,
   "metadata": {},
   "outputs": [],
   "source": [
    "def save_data_to_array(path=DATA_PATH, max_len=11, n_mfcc=20):\n",
    "    labels, _, _ = get_labels(path)\n",
    "\n",
    "    for label in labels:\n",
    "        # inicializando o vetor mfcc\n",
    "        mfcc_vectors = []\n",
    "        \n",
    "        wavfiles = [path + label + '/' + wavfile for wavfile in os.listdir(path + '/' + label)]\n",
    "        for wavfile in tqdm(wavfiles, \"Salvando vetores da label - '{}'\".format(label)):\n",
    "            mfcc = wav2mfcc(wavfile, max_len=max_len, n_mfcc=n_mfcc)\n",
    "            mfcc_vectors.append(mfcc)\n",
    "        np.save(label + '.npy', mfcc_vectors)"
   ]
  },
  {
   "cell_type": "code",
   "execution_count": 5,
   "metadata": {},
   "outputs": [],
   "source": [
    "# split ratio em 60%, ou seja o tamanho do treino é de 40% da base disponível, com shuffle=True para embaralhar os dados antes de dividir\n",
    "def get_train_test(split_ratio=0.6, random_state=42):\n",
    "    # Dando get nas labels disponíveis\n",
    "    labels, indices, _ = get_labels(DATA_PATH)\n",
    "\n",
    "    # Pegando os arrays salvos nos arquivos .npy\n",
    "    X = np.load(labels[0] + '.npy')\n",
    "    y = np.zeros(X.shape[0])\n",
    "\n",
    "    # \"Anexando\" todo o conjunto de dados em uma única matriz, o mesmo vale para o y\n",
    "    for i, label in enumerate(labels[1:]):\n",
    "        x = np.load(label + '.npy')\n",
    "        X = np.vstack((X, x))\n",
    "        y = np.append(y, np.full(x.shape[0], fill_value= (i + 1)))\n",
    "\n",
    "    assert X.shape[0] == len(y)\n",
    "\n",
    "    return train_test_split(X, y, test_size= (1 - split_ratio), random_state=random_state, shuffle=True)"
   ]
  },
  {
   "cell_type": "code",
   "execution_count": 6,
   "metadata": {},
   "outputs": [
    {
     "name": "stdout",
     "output_type": "stream",
     "text": [
      "cachorro\n"
     ]
    },
    {
     "name": "stderr",
     "output_type": "stream",
     "text": [
      "Salvando vetores da label - 'cachorro': 100%|██████████| 50/50 [00:00<00:00, 96.21it/s]\n"
     ]
    },
    {
     "name": "stdout",
     "output_type": "stream",
     "text": [
      "gato\n"
     ]
    },
    {
     "name": "stderr",
     "output_type": "stream",
     "text": [
      "Salvando vetores da label - 'gato': 100%|██████████| 50/50 [00:00<00:00, 77.57it/s]\n"
     ]
    }
   ],
   "source": [
    "max_len = 11\n",
    "buckets = 20\n",
    "\n",
    "# Salvando os arquivos para array e armazenando nos arquivos .npy\n",
    "save_data_to_array(max_len=max_len, n_mfcc=buckets)\n",
    "\n",
    "labels=[\"cachorro\", \"gato\"]"
   ]
  },
  {
   "cell_type": "code",
   "execution_count": 7,
   "metadata": {},
   "outputs": [],
   "source": [
    "# # Carregando os dados de treino e de teste\n",
    "X_train, X_test, y_train, y_test = get_train_test()"
   ]
  },
  {
   "cell_type": "code",
   "execution_count": 8,
   "metadata": {},
   "outputs": [
    {
     "data": {
      "text/plain": [
       "<matplotlib.collections.PathCollection at 0x29220805488>"
      ]
     },
     "execution_count": 8,
     "metadata": {},
     "output_type": "execute_result"
    },
    {
     "data": {
      "image/png": "[encoded data removed]",
      "text/plain": [
       "<Figure size 432x288 with 1 Axes>"
      ]
     },
     "metadata": {
      "needs_background": "light"
     },
     "output_type": "display_data"
    }
   ],
   "source": [
    "#X_train\n",
    "#X_test \n",
    "#y_train\n",
    "#y_test\n",
    "\n",
    "plt.scatter(X_train[4], X_test[30])\n",
    "#X_train.shape,X_test.shape,y_train.shape,y_test.shape"
   ]
  },
  {
   "cell_type": "code",
   "execution_count": 9,
   "metadata": {},
   "outputs": [],
   "source": [
    "channels = 1\n",
    "epochs = 50\n",
    "batch_size = 100\n",
    "\n",
    "num_classes = 2\n",
    "\n",
    "X_train = X_train.reshape(X_train.shape[0], buckets, max_len, channels)\n",
    "X_test = X_test.reshape(X_test.shape[0], buckets, max_len, channels)"
   ]
  },
  {
   "cell_type": "code",
   "execution_count": 10,
   "metadata": {},
   "outputs": [],
   "source": [
    "y_train_hot = to_categorical(y_train)\n",
    "y_test_hot = to_categorical(y_test)"
   ]
  },
  {
   "cell_type": "code",
   "execution_count": 11,
   "metadata": {},
   "outputs": [],
   "source": [
    "X_train = X_train.reshape(X_train.shape[0], buckets, max_len)\n",
    "X_test = X_test.reshape(X_test.shape[0], buckets, max_len)\n",
    "\n",
    "model = Sequential()\n",
    "model.add(Flatten(input_shape=(buckets, max_len)))\n",
    "model.add(Dense(num_classes, activation='softmax'))\n",
    "model.compile(loss=\"categorical_crossentropy\",\n",
    "                  optimizer=\"adam\",\n",
    "                  metrics=['accuracy'])"
   ]
  },
  {
   "cell_type": "code",
   "execution_count": 12,
   "metadata": {},
   "outputs": [
    {
     "name": "stdout",
     "output_type": "stream",
     "text": [
      "Train on 60 samples, validate on 40 samples\n",
      "Epoch 1/50\n",
      "60/60 [==============================] - ETA: 0s - loss: 25.8493 - accuracy: 0.750 - 0s 2ms/step - loss: 20.2476 - accuracy: 0.7500 - val_loss: 14.8706 - val_accuracy: 0.7500\n",
      "Epoch 2/50\n",
      "60/60 [==============================] - ETA: 0s - loss: 23.5814 - accuracy: 0.687 - 0s 283us/step - loss: 18.1551 - accuracy: 0.7667 - val_loss: 11.8702 - val_accuracy: 0.8250\n",
      "Epoch 3/50\n",
      "60/60 [==============================] - ETA: 0s - loss: 14.6803 - accuracy: 0.843 - 0s 483us/step - loss: 15.7241 - accuracy: 0.7833 - val_loss: 9.9174 - val_accuracy: 0.8000\n",
      "Epoch 4/50\n",
      "60/60 [==============================] - ETA: 0s - loss: 17.4804 - accuracy: 0.781 - 0s 266us/step - loss: 14.4550 - accuracy: 0.8000 - val_loss: 8.2206 - val_accuracy: 0.8000\n",
      "Epoch 5/50\n",
      "60/60 [==============================] - ETA: 0s - loss: 19.0916 - accuracy: 0.687 - 0s 266us/step - loss: 12.9951 - accuracy: 0.8000 - val_loss: 6.7392 - val_accuracy: 0.8000\n",
      "Epoch 6/50\n",
      "60/60 [==============================] - ETA: 0s - loss: 14.7503 - accuracy: 0.750 - 0s 250us/step - loss: 11.6819 - accuracy: 0.8000 - val_loss: 5.2441 - val_accuracy: 0.8000\n",
      "Epoch 7/50\n",
      "60/60 [==============================] - ETA: 0s - loss: 12.6897 - accuracy: 0.781 - 0s 267us/step - loss: 10.2678 - accuracy: 0.8000 - val_loss: 4.0891 - val_accuracy: 0.8500\n",
      "Epoch 8/50\n",
      "60/60 [==============================] - ETA: 0s - loss: 10.8831 - accuracy: 0.750 - 0s 267us/step - loss: 9.4880 - accuracy: 0.8000 - val_loss: 3.4295 - val_accuracy: 0.8500\n",
      "Epoch 9/50\n",
      "60/60 [==============================] - ETA: 0s - loss: 9.6331 - accuracy: 0.75 - 0s 267us/step - loss: 8.8762 - accuracy: 0.8000 - val_loss: 3.0020 - val_accuracy: 0.8500\n",
      "Epoch 10/50\n",
      "60/60 [==============================] - ETA: 0s - loss: 8.7062 - accuracy: 0.84 - 0s 200us/step - loss: 8.3597 - accuracy: 0.8333 - val_loss: 2.7218 - val_accuracy: 0.8750\n",
      "Epoch 11/50\n",
      "60/60 [==============================] - ETA: 0s - loss: 12.0957 - accuracy: 0.750 - 0s 267us/step - loss: 7.9126 - accuracy: 0.8333 - val_loss: 2.5803 - val_accuracy: 0.8750\n",
      "Epoch 12/50\n",
      "60/60 [==============================] - ETA: 0s - loss: 9.9532 - accuracy: 0.81 - 0s 266us/step - loss: 7.2853 - accuracy: 0.8500 - val_loss: 2.5277 - val_accuracy: 0.8750\n",
      "Epoch 13/50\n",
      "60/60 [==============================] - ETA: 0s - loss: 7.1975 - accuracy: 0.87 - 0s 266us/step - loss: 6.6415 - accuracy: 0.8667 - val_loss: 2.5312 - val_accuracy: 0.8750\n",
      "Epoch 14/50\n",
      "60/60 [==============================] - ETA: 0s - loss: 8.7890 - accuracy: 0.81 - 0s 300us/step - loss: 6.0483 - accuracy: 0.8667 - val_loss: 2.5357 - val_accuracy: 0.8750\n",
      "Epoch 15/50\n",
      "60/60 [==============================] - ETA: 0s - loss: 3.9757 - accuracy: 0.93 - 0s 267us/step - loss: 5.2871 - accuracy: 0.8667 - val_loss: 2.5396 - val_accuracy: 0.8750\n",
      "Epoch 16/50\n",
      "60/60 [==============================] - ETA: 0s - loss: 5.8362 - accuracy: 0.87 - 0s 283us/step - loss: 4.7918 - accuracy: 0.8667 - val_loss: 2.6448 - val_accuracy: 0.8750\n",
      "Epoch 17/50\n",
      "60/60 [==============================] - ETA: 0s - loss: 4.0549 - accuracy: 0.84 - 0s 366us/step - loss: 4.1193 - accuracy: 0.8500 - val_loss: 2.7317 - val_accuracy: 0.8750\n",
      "Epoch 18/50\n",
      "60/60 [==============================] - ETA: 0s - loss: 1.1497 - accuracy: 0.93 - 0s 300us/step - loss: 3.5764 - accuracy: 0.8667 - val_loss: 2.7800 - val_accuracy: 0.8750\n",
      "Epoch 19/50\n",
      "60/60 [==============================] - ETA: 0s - loss: 1.1171 - accuracy: 0.90 - 0s 316us/step - loss: 3.0894 - accuracy: 0.8667 - val_loss: 2.7700 - val_accuracy: 0.8750\n",
      "Epoch 20/50\n",
      "60/60 [==============================] - ETA: 0s - loss: 0.1448 - accuracy: 0.93 - 0s 283us/step - loss: 2.6808 - accuracy: 0.8833 - val_loss: 2.7564 - val_accuracy: 0.8750\n",
      "Epoch 21/50\n",
      "60/60 [==============================] - ETA: 0s - loss: 0.5725 - accuracy: 0.90 - 0s 300us/step - loss: 2.4150 - accuracy: 0.8833 - val_loss: 2.7637 - val_accuracy: 0.8750\n",
      "Epoch 22/50\n",
      "60/60 [==============================] - ETA: 0s - loss: 2.4420 - accuracy: 0.90 - 0s 217us/step - loss: 2.1140 - accuracy: 0.8833 - val_loss: 2.7385 - val_accuracy: 0.8500\n",
      "Epoch 23/50\n",
      "60/60 [==============================] - ETA: 0s - loss: 3.5397 - accuracy: 0.78 - 0s 300us/step - loss: 1.8878 - accuracy: 0.8833 - val_loss: 2.7256 - val_accuracy: 0.8500\n",
      "Epoch 24/50\n",
      "60/60 [==============================] - ETA: 0s - loss: 0.7947 - accuracy: 0.93 - 0s 283us/step - loss: 1.5228 - accuracy: 0.9000 - val_loss: 2.7134 - val_accuracy: 0.8500\n",
      "Epoch 25/50\n",
      "60/60 [==============================] - ETA: 0s - loss: 0.2857 - accuracy: 0.93 - 0s 283us/step - loss: 1.2885 - accuracy: 0.9000 - val_loss: 2.6903 - val_accuracy: 0.8500\n",
      "Epoch 26/50\n",
      "60/60 [==============================] - ETA: 0s - loss: 1.5471 - accuracy: 0.90 - 0s 217us/step - loss: 1.0816 - accuracy: 0.9000 - val_loss: 2.6638 - val_accuracy: 0.8750\n",
      "Epoch 27/50\n",
      "60/60 [==============================] - ETA: 0s - loss: 0.2483 - accuracy: 0.93 - 0s 233us/step - loss: 0.8554 - accuracy: 0.8833 - val_loss: 2.6659 - val_accuracy: 0.8750\n",
      "Epoch 28/50\n",
      "60/60 [==============================] - ETA: 0s - loss: 1.0785 - accuracy: 0.87 - 0s 250us/step - loss: 0.7249 - accuracy: 0.8833 - val_loss: 2.6771 - val_accuracy: 0.8750\n",
      "Epoch 29/50\n",
      "60/60 [==============================] - ETA: 0s - loss: 0.3261 - accuracy: 0.90 - 0s 217us/step - loss: 0.5347 - accuracy: 0.9333 - val_loss: 2.7158 - val_accuracy: 0.8750\n",
      "Epoch 30/50\n",
      "60/60 [==============================] - ETA: 0s - loss: 0.1786 - accuracy: 0.93 - 0s 267us/step - loss: 0.4229 - accuracy: 0.9333 - val_loss: 2.7471 - val_accuracy: 0.8750\n",
      "Epoch 31/50\n",
      "60/60 [==============================] - ETA: 0s - loss: 0.5400 - accuracy: 0.93 - 0s 250us/step - loss: 0.3437 - accuracy: 0.9333 - val_loss: 2.7762 - val_accuracy: 0.8750\n",
      "Epoch 32/50\n",
      "60/60 [==============================] - ETA: 0s - loss: 0.0533 - accuracy: 0.96 - 0s 200us/step - loss: 0.2048 - accuracy: 0.9500 - val_loss: 2.8093 - val_accuracy: 0.8500\n",
      "Epoch 33/50\n",
      "60/60 [==============================] - ETA: 0s - loss: 0.2348 - accuracy: 0.96 - 0s 216us/step - loss: 0.1444 - accuracy: 0.9667 - val_loss: 2.8448 - val_accuracy: 0.8500\n",
      "Epoch 34/50\n",
      "60/60 [==============================] - ETA: 0s - loss: 0.1079 - accuracy: 0.93 - 0s 316us/step - loss: 0.1011 - accuracy: 0.9500 - val_loss: 2.9014 - val_accuracy: 0.8250\n",
      "Epoch 35/50\n",
      "60/60 [==============================] - ETA: 0s - loss: 0.0599 - accuracy: 0.96 - 0s 283us/step - loss: 0.0741 - accuracy: 0.9667 - val_loss: 2.9854 - val_accuracy: 0.8250\n",
      "Epoch 36/50\n",
      "60/60 [==============================] - ETA: 0s - loss: 0.0701 - accuracy: 0.96 - 0s 383us/step - loss: 0.0504 - accuracy: 0.9833 - val_loss: 3.0771 - val_accuracy: 0.8250\n",
      "Epoch 37/50\n",
      "60/60 [==============================] - ETA: 0s - loss: 0.0459 - accuracy: 1.00 - 0s 400us/step - loss: 0.0267 - accuracy: 1.0000 - val_loss: 3.1556 - val_accuracy: 0.8250\n",
      "Epoch 38/50\n",
      "60/60 [==============================] - ETA: 0s - loss: 0.0044 - accuracy: 1.00 - 0s 333us/step - loss: 0.0189 - accuracy: 1.0000 - val_loss: 3.2116 - val_accuracy: 0.8500\n",
      "Epoch 39/50\n",
      "60/60 [==============================] - ETA: 0s - loss: 0.0049 - accuracy: 1.00 - 0s 333us/step - loss: 0.0128 - accuracy: 1.0000 - val_loss: 3.2356 - val_accuracy: 0.8500\n",
      "Epoch 40/50\n",
      "60/60 [==============================] - ETA: 0s - loss: 0.0104 - accuracy: 1.00 - 0s 267us/step - loss: 0.0076 - accuracy: 1.0000 - val_loss: 3.2409 - val_accuracy: 0.8500\n",
      "Epoch 41/50\n",
      "60/60 [==============================] - ETA: 0s - loss: 0.0029 - accuracy: 1.00 - 0s 300us/step - loss: 0.0041 - accuracy: 1.0000 - val_loss: 3.2392 - val_accuracy: 0.8500\n",
      "Epoch 42/50\n",
      "60/60 [==============================] - ETA: 0s - loss: 0.0046 - accuracy: 1.00 - 0s 250us/step - loss: 0.0029 - accuracy: 1.0000 - val_loss: 3.2351 - val_accuracy: 0.8500\n",
      "Epoch 43/50\n",
      "60/60 [==============================] - ETA: 0s - loss: 0.0034 - accuracy: 1.00 - 0s 267us/step - loss: 0.0023 - accuracy: 1.0000 - val_loss: 3.2319 - val_accuracy: 0.8250\n",
      "Epoch 44/50\n",
      "60/60 [==============================] - ETA: 0s - loss: 0.0026 - accuracy: 1.00 - 0s 200us/step - loss: 0.0020 - accuracy: 1.0000 - val_loss: 3.2311 - val_accuracy: 0.8250\n"
     ]
    },
    {
     "name": "stdout",
     "output_type": "stream",
     "text": [
      "Epoch 45/50\n",
      "60/60 [==============================] - ETA: 0s - loss: 0.0028 - accuracy: 1.00 - 0s 217us/step - loss: 0.0021 - accuracy: 1.0000 - val_loss: 3.2313 - val_accuracy: 0.8250\n",
      "Epoch 46/50\n",
      "60/60 [==============================] - ETA: 0s - loss: 0.0011 - accuracy: 1.00 - 0s 233us/step - loss: 0.0021 - accuracy: 1.0000 - val_loss: 3.2325 - val_accuracy: 0.8250\n",
      "Epoch 47/50\n",
      "60/60 [==============================] - ETA: 0s - loss: 9.2749e-04 - accuracy: 1.00 - 0s 217us/step - loss: 0.0019 - accuracy: 1.0000 - val_loss: 3.2354 - val_accuracy: 0.8750\n",
      "Epoch 48/50\n",
      "60/60 [==============================] - ETA: 0s - loss: 0.0025 - accuracy: 1.00 - 0s 383us/step - loss: 0.0017 - accuracy: 1.0000 - val_loss: 3.2393 - val_accuracy: 0.8750\n",
      "Epoch 49/50\n",
      "60/60 [==============================] - ETA: 0s - loss: 8.3484e-04 - accuracy: 1.00 - 0s 217us/step - loss: 0.0014 - accuracy: 1.0000 - val_loss: 3.2430 - val_accuracy: 0.8750\n",
      "Epoch 50/50\n",
      "60/60 [==============================] - ETA: 0s - loss: 0.0010 - accuracy: 1.00 - 0s 300us/step - loss: 0.0012 - accuracy: 1.0000 - val_loss: 3.2471 - val_accuracy: 0.8750\n"
     ]
    },
    {
     "data": {
      "text/plain": [
       "<keras.callbacks.callbacks.History at 0x29221fcd648>"
      ]
     },
     "execution_count": 12,
     "metadata": {},
     "output_type": "execute_result"
    }
   ],
   "source": [
    "model.fit(X_train, y_train_hot, epochs=epochs, validation_data=(X_test, y_test_hot))"
   ]
  },
  {
   "cell_type": "markdown",
   "metadata": {},
   "source": [
    "Inserir arquivo de áudio .wav dentro da pasta ...\\trabalho-antonio-winter\\testes\\teste, para realizar a predição"
   ]
  },
  {
   "cell_type": "code",
   "execution_count": 13,
   "metadata": {},
   "outputs": [],
   "source": [
    "DATA_PATH = \"./testes/\"\n",
    "\n",
    "def save_data_to_array_predict(path=DATA_PATH, max_len=11, n_mfcc=20):\n",
    "    labels, _, _ = get_labels(path)\n",
    "\n",
    "    for label in labels:\n",
    "        # inicializando o vetor mfcc\n",
    "        mfcc_vectors_predict = []\n",
    "\n",
    "        wavfiles = [path + label + '/' + wavfile for wavfile in os.listdir(path + '/' + label)]\n",
    "        for wavfile in tqdm(wavfiles, \"Salvando vetores da label - '{}'\".format(label)):\n",
    "            mfcc = wav2mfcc(wavfile, max_len=max_len, n_mfcc=n_mfcc)\n",
    "            mfcc_vectors_predict.append(mfcc)\n",
    "    return np.array(mfcc_vectors_predict)"
   ]
  },
  {
   "cell_type": "code",
   "execution_count": 14,
   "metadata": {},
   "outputs": [
    {
     "name": "stderr",
     "output_type": "stream",
     "text": [
      "Salvando vetores da label - 'teste': 100%|██████████| 1/1 [00:00<00:00, 58.86it/s]\n"
     ]
    }
   ],
   "source": [
    "a_predizer = save_data_to_array_predict(max_len=max_len, n_mfcc=buckets)"
   ]
  },
  {
   "cell_type": "code",
   "execution_count": 15,
   "metadata": {},
   "outputs": [
    {
     "data": {
      "text/plain": [
       "(1, 20, 11)"
      ]
     },
     "execution_count": 15,
     "metadata": {},
     "output_type": "execute_result"
    }
   ],
   "source": [
    "a_predizer.shape"
   ]
  },
  {
   "cell_type": "code",
   "execution_count": 16,
   "metadata": {},
   "outputs": [],
   "source": [
    "predito = model.predict(a_predizer)"
   ]
  },
  {
   "cell_type": "code",
   "execution_count": 17,
   "metadata": {},
   "outputs": [
    {
     "name": "stdout",
     "output_type": "stream",
     "text": [
      "O áudio lido e predito é de um cachorro\n"
     ]
    }
   ],
   "source": [
    "print('O áudio lido e predito é de um '+labels[np.argmax(predito[0])])"
   ]
  },
  {
   "cell_type": "markdown",
   "metadata": {},
   "source": [
    "Utilizado tutorial https://www.youtube.com/watch?v=Qf4YJcHXtcY para entender classificação de áudio"
   ]
  }
 ],
 "metadata": {
  "kernelspec": {
   "display_name": "Python 3",
   "language": "python",
   "name": "python3"
  },
  "language_info": {
   "codemirror_mode": {
    "name": "ipython",
    "version": 3
   },
   "file_extension": ".py",
   "mimetype": "text/x-python",
   "name": "python",
   "nbconvert_exporter": "python",
   "pygments_lexer": "ipython3",
   "version": "3.7.4"
  }
 },
 "nbformat": 4,
 "nbformat_minor": 2
}
